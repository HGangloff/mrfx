{
 "cells": [
  {
   "cell_type": "markdown",
   "id": "8f577d90-9671-4a67-8099-81f981c43aee",
   "metadata": {},
   "source": [
    "*Note for CPU energy monitoring:* To get the CPU energy measure with zeus: `sudo su` then `jupyter-lab --allow-root` and modify `time_complete_sampling()` such that `gpu_energy` becomes `cpu_energy`. We also set `cpu_device = jax.devices('cpu')[0]` and `with jax.default_device(cpu_device):` because we cannot set `jax_platforms=cpu`: if we totally hide the GPU, zeus will complain."
   ]
  },
  {
   "cell_type": "code",
   "execution_count": null,
   "id": "190364cb-bf49-449d-beff-c5fd277119fa",
   "metadata": {},
   "outputs": [],
   "source": [
    "import jax\n",
    "import numpy as np\n",
    "from mrfx.experiments import time_complete_sampling, plot_benchmark\n",
    "from mrfx.samplers import ChromaticGibbsSampler\n",
    "from mrfx.models import Potts\n",
    "\n",
    "# cpu_device = jax.devices('cpu')[0]\n",
    "\n",
    "# with jax.default_device(cpu_device):\n",
    "key = jax.random.PRNGKey(0)\n",
    "\n",
    "K = 2\n",
    "beta = 1.0\n",
    "potts_model = Potts(K=K, beta=beta, neigh_size=1)\n",
    "\n",
    "Ks = np.arange(2, 8)\n",
    "sizes = [(2**e, 2**e) for e in range(4, 10)]\n",
    "reps = 10\n",
    "\n",
    "key, subkey = jax.random.split(key, 2)\n",
    "times, n_iterations, samples, energy = time_complete_sampling(\n",
    "    ChromaticGibbsSampler,\n",
    "    Potts,\n",
    "    subkey,\n",
    "    Ks,\n",
    "    sizes,\n",
    "    reps,\n",
    "    kwargs_sampler={\n",
    "        \"eps\": 0.05,\n",
    "        \"max_iter\": 10000,\n",
    "        \"color_update_type\": \"vmap_in_color\",\n",
    "    },\n",
    "    kwargs_model={\"beta\": beta},\n",
    "    exp_name=\"Gibbs_sampler_GPU\",\n",
    "    with_energy=True,\n",
    ")"
   ]
  },
  {
   "cell_type": "code",
   "execution_count": null,
   "id": "fd2ef2b6-dbd8-4dee-95ed-61e71964347b",
   "metadata": {},
   "outputs": [],
   "source": [
    "plot_benchmark(\n",
    "    Ks, sizes, times, title=\"Times for Chromatic Gibbs sampling\", ylabel=\"times (s)\"\n",
    ")"
   ]
  },
  {
   "cell_type": "code",
   "execution_count": null,
   "id": "36347590-6b65-4d6c-b58a-a88ab48409ed",
   "metadata": {},
   "outputs": [],
   "source": [
    "plot_benchmark(\n",
    "    Ks, sizes, energy, title=\"Energy for Chromatic Gibbs sampling\", ylabel=\"energy (J)\"\n",
    ")"
   ]
  },
  {
   "cell_type": "code",
   "execution_count": null,
   "id": "4e2d8bab-4361-46ce-a732-8adb9e5240a8",
   "metadata": {},
   "outputs": [],
   "source": []
  }
 ],
 "metadata": {
  "kernelspec": {
   "display_name": "Python 3 (ipykernel)",
   "language": "python",
   "name": "python3"
  },
  "language_info": {
   "codemirror_mode": {
    "name": "ipython",
    "version": 3
   },
   "file_extension": ".py",
   "mimetype": "text/x-python",
   "name": "python",
   "nbconvert_exporter": "python",
   "pygments_lexer": "ipython3",
   "version": "3.11.13"
  }
 },
 "nbformat": 4,
 "nbformat_minor": 5
}
