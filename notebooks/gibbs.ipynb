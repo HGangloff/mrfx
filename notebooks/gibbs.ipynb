{
 "cells": [
  {
   "cell_type": "code",
   "execution_count": 1,
   "id": "5a4cb124-977a-4857-89d3-933fc3c481fb",
   "metadata": {},
   "outputs": [],
   "source": [
    "import os\n",
    "os.environ[\"JAX_PLATFORMS\"] = \"cpu\""
   ]
  },
  {
   "cell_type": "code",
   "execution_count": null,
   "id": "190364cb-bf49-449d-beff-c5fd277119fa",
   "metadata": {},
   "outputs": [
    {
     "name": "stderr",
     "output_type": "stream",
     "text": [
      "/home/hugo/Documents/recherche/gum/code/mrfx_private/mrfx/experiments/_benchmark.py:152: UserWarning: A JAX array is being set as static! This can result in unexpected behavior and is usually a mistake to do.\n",
      "  model = Model(k, **kwargs_model)\n"
     ]
    },
    {
     "name": "stdout",
     "output_type": "stream",
     "text": [
      "Rep ( / 10): Stopping Gibbs sampler, cause: Convergence criterion is reached\n",
      "1 Stopping Gibbs sampler, cause: Convergence criterion is reached\n",
      "2 Stopping Gibbs sampler, cause: Convergence criterion is reached\n",
      "3 Stopping Gibbs sampler, cause: Convergence criterion is reached\n",
      "4 Stopping Gibbs sampler, cause: Convergence criterion is reached\n",
      "5 Stopping Gibbs sampler, cause: Convergence criterion is reached\n",
      "6 Stopping Gibbs sampler, cause: Convergence criterion is reached\n",
      "7 Stopping Gibbs sampler, cause: Convergence criterion is reached\n",
      "8 Stopping Gibbs sampler, cause: Convergence criterion is reached\n",
      "9 Stopping Gibbs sampler, cause: Convergence criterion is reached\n",
      "10 Stopping Gibbs sampler, cause: Convergence criterion is reached\n",
      "\n",
      "k=5, lx=256, ly=256, compilation_time=1.2737181186676025, runtime_mean=24.378205513954164, n_iter_mean=116.2\n",
      "Rep ( / 10): Stopping Gibbs sampler, cause: Convergence criterion is reached\n",
      "1 Stopping Gibbs sampler, cause: Convergence criterion is reached\n",
      "2 Stopping Gibbs sampler, cause: Convergence criterion is reached\n",
      "3 Stopping Gibbs sampler, cause: Convergence criterion is reached\n",
      "4 Stopping Gibbs sampler, cause: Convergence criterion is reached\n",
      "5 Stopping Gibbs sampler, cause: Convergence criterion is reached\n",
      "6 Stopping Gibbs sampler, cause: Convergence criterion is reached\n",
      "7 Stopping Gibbs sampler, cause: Convergence criterion is reached\n",
      "8 Stopping Gibbs sampler, cause: Convergence criterion is reached\n",
      "9 Stopping Gibbs sampler, cause: Convergence criterion is reached\n",
      "10 Stopping Gibbs sampler, cause: Convergence criterion is reached\n",
      "\n",
      "k=5, lx=512, ly=512, compilation_time=1.1111915111541748, runtime_mean=105.20260453224182, n_iter_mean=118.3\n",
      "Rep ( / 10): Stopping Gibbs sampler, cause: Convergence criterion is reached\n",
      "1 Stopping Gibbs sampler, cause: Convergence criterion is reached\n",
      "2 Stopping Gibbs sampler, cause: Convergence criterion is reached\n",
      "3 Stopping Gibbs sampler, cause: Convergence criterion is reached\n",
      "4 Stopping Gibbs sampler, cause: Convergence criterion is reached\n",
      "5 Stopping Gibbs sampler, cause: Convergence criterion is reached\n",
      "6 Stopping Gibbs sampler, cause: Convergence criterion is reached\n",
      "7 Stopping Gibbs sampler, cause: Convergence criterion is reached\n",
      "8 Stopping Gibbs sampler, cause: Convergence criterion is reached\n",
      "9 Stopping Gibbs sampler, cause: Convergence criterion is reached\n",
      "10 Stopping Gibbs sampler, cause: Convergence criterion is reached\n",
      "\n",
      "k=6, lx=256, ly=256, compilation_time=0.6058416366577148, runtime_mean=28.313408279418944, n_iter_mean=139.6\n",
      "Rep ( / 10): Stopping Gibbs sampler, cause: Convergence criterion is reached\n",
      "1 Stopping Gibbs sampler, cause: Convergence criterion is reached\n",
      "2 Stopping Gibbs sampler, cause: Convergence criterion is reached\n",
      "3 Stopping Gibbs sampler, cause: Convergence criterion is reached\n",
      "4 Stopping Gibbs sampler, cause: Convergence criterion is reached\n",
      "5 Stopping Gibbs sampler, cause: Convergence criterion is reached\n",
      "6 Stopping Gibbs sampler, cause: Convergence criterion is reached\n",
      "7 Stopping Gibbs sampler, cause: Convergence criterion is reached\n",
      "8 Stopping Gibbs sampler, cause: Convergence criterion is reached\n",
      "9 Stopping Gibbs sampler, cause: Convergence criterion is reached\n",
      "10 "
     ]
    }
   ],
   "source": [
    "import jax\n",
    "key = jax.random.PRNGKey(0)\n",
    "import numpy as np\n",
    "from mrfx.experiments import time_complete_sampling, plot_benchmark\n",
    "from mrfx.samplers import GibbsSampler, ChromaticGibbsSampler\n",
    "from mrfx.models import Potts\n",
    "K = 2\n",
    "beta = 1.\n",
    "potts_model = Potts(K, beta, neigh_size=1)\n",
    "\n",
    "Ks = np.arange(5, 8)\n",
    "sizes = [(2 ** e, 2 ** e) for e in range(8, 10)]\n",
    "reps = 10\n",
    "\n",
    "key, subkey = jax.random.split(key, 2)\n",
    "times, n_iterations = time_complete_sampling(ChromaticGibbsSampler, Potts, subkey, Ks, sizes, reps,\n",
    "                                             kwargs_sampler={\"eps\":0.05, \"max_iter\":10000, \"color_update_type\":\"vmap_in_color\"},\n",
    "                                             kwargs_model={\"beta\":1.})"
   ]
  },
  {
   "cell_type": "code",
   "execution_count": null,
   "id": "fd2ef2b6-dbd8-4dee-95ed-61e71964347b",
   "metadata": {},
   "outputs": [],
   "source": [
    "plot_benchmark(Ks, sizes, times, title=\"Times for Chromatic Gibbs sampling\")"
   ]
  },
  {
   "cell_type": "code",
   "execution_count": null,
   "id": "36347590-6b65-4d6c-b58a-a88ab48409ed",
   "metadata": {},
   "outputs": [],
   "source": []
  }
 ],
 "metadata": {
  "kernelspec": {
   "display_name": "Python 3 (ipykernel)",
   "language": "python",
   "name": "python3"
  },
  "language_info": {
   "codemirror_mode": {
    "name": "ipython",
    "version": 3
   },
   "file_extension": ".py",
   "mimetype": "text/x-python",
   "name": "python",
   "nbconvert_exporter": "python",
   "pygments_lexer": "ipython3",
   "version": "3.10.14"
  }
 },
 "nbformat": 4,
 "nbformat_minor": 5
}
